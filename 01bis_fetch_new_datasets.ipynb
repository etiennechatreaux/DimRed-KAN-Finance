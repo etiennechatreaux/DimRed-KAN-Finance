{
 "cells": [
  {
   "cell_type": "code",
   "execution_count": 2,
   "id": "61f16612",
   "metadata": {},
   "outputs": [],
   "source": [
    "import pandas as pd\n",
    "from pandas_datareader import data as web\n",
    "from datetime import datetime\n",
    "\n",
    "def fetch_fred_yield_curve(start=\"1990-01-01\", end=None, out_path=\"data/raw/fred_yield_curve.csv\"):\n",
    "    \n",
    "    try:\n",
    "        df = pd.read_csv(out_path, index_col=0, parse_dates=True)\n",
    "        print(f\"Loading existing file: {out_path}\")\n",
    "        print(f\"FRED Yield Curve: {df.shape[0]} rows × {df.shape[1]} cols\")\n",
    "        return df\n",
    "    except FileNotFoundError:\n",
    "        print(\"File not found, downloading data...\")\n",
    "\n",
    "    if end is None:\n",
    "        end = datetime.today().strftime(\"%Y-%m-%d\")\n",
    "\n",
    "    fred_tickers = {\n",
    "        \"DGS1MO\": \"1M\",\n",
    "        \"DGS3MO\": \"3M\", \n",
    "        \"DGS6MO\": \"6M\",\n",
    "        \"DGS1\": \"1Y\",\n",
    "        \"DGS2\": \"2Y\",\n",
    "        \"DGS5\": \"5Y\", \n",
    "        \"DGS10\": \"10Y\",\n",
    "        \"DGS30\": \"30Y\"\n",
    "    }\n",
    "\n",
    "    frames = {}\n",
    "    for code, label in fred_tickers.items():\n",
    "        s = web.DataReader(code, \"fred\", start, end).rename(columns={code: label})\n",
    "        frames[label] = s\n",
    "\n",
    "    df = pd.concat(frames.values(), axis=1)\n",
    "    df = df.ffill().dropna(how=\"all\")  # Forward fill des jours fériés\n",
    "    df = df.asfreq(\"B\")  # Resampling business days\n",
    "    df = df.ffill()\n",
    "\n",
    "    # Export CSV\n",
    "    df.to_csv(out_path, index=True)\n",
    "    print(f\"FRED Yield Curve: {df.shape[0]} rows × {df.shape[1]} cols\")\n",
    "    print(f\"     Saved to: {out_path}\")\n",
    "    \n",
    "    return df"
   ]
  },
  {
   "cell_type": "code",
   "execution_count": 3,
   "id": "4202f97e",
   "metadata": {},
   "outputs": [
    {
     "name": "stdout",
     "output_type": "stream",
     "text": [
      "File not found, downloading data...\n",
      "FRED Yield Curve: 9303 rows × 8 cols\n",
      "     Saved to: data/raw/fred_yield_curve.csv\n"
     ]
    }
   ],
   "source": [
    "dataset = fetch_fred_yield_curve(start=\"1990-01-01\", end=\"2025-09-01\")"
   ]
  },
  {
   "cell_type": "code",
   "execution_count": 4,
   "id": "cdd206ad",
   "metadata": {},
   "outputs": [
    {
     "name": "stdout",
     "output_type": "stream",
     "text": [
      "3020\n",
      "0\n",
      "0\n",
      "0\n",
      "0\n",
      "0\n",
      "0\n",
      "0\n",
      "(9303, 7)\n"
     ]
    }
   ],
   "source": [
    "cols_to_drop = []\n",
    "\n",
    "for col in dataset.columns:\n",
    "    print(dataset[col].isna().sum())\n",
    "    if dataset[col].isna().sum() > 0:\n",
    "        cols_to_drop.append(col)\n",
    "\n",
    "dataset.drop(cols_to_drop, axis=1, inplace=True)\n",
    "\n",
    "print(dataset.shape)"
   ]
  },
  {
   "cell_type": "code",
   "execution_count": 5,
   "id": "9fde0875",
   "metadata": {},
   "outputs": [
    {
     "name": "stdout",
     "output_type": "stream",
     "text": [
      "Cross-section z-score shape: (9303, 7)\n",
      "Column-wise z-score shape: (9303, 7)\n"
     ]
    }
   ],
   "source": [
    "def preprocess_yield_curve(df):\n",
    "    \"\"\"\n",
    "    Preprocess yield curve data with winsorization and two types of normalization\n",
    "    \n",
    "    Args:\n",
    "        df (pd.DataFrame): Raw yield curve dataset\n",
    "        \n",
    "    Returns:\n",
    "        tuple: (cross_section_zscore_df, column_zscore_df)\n",
    "    \"\"\"\n",
    "    # Winsorize each column at 0.1% and 99.9%\n",
    "    df_winsorized = df.copy()\n",
    "    for col in df.columns:\n",
    "        lower = df[col].quantile(0.001)\n",
    "        upper = df[col].quantile(0.999)\n",
    "        df_winsorized[col] = df[col].clip(lower=lower, upper=upper)\n",
    "    \n",
    "    # A) Cross-section z-score (standardize each date/row)\n",
    "    cross_section_zscore = (df_winsorized.sub(df_winsorized.mean(axis=1), axis=0)\n",
    "                           .div(df_winsorized.std(axis=1), axis=0))\n",
    "    \n",
    "    # B) Column-wise z-score (standardize each maturity/column)\n",
    "    column_zscore = (df_winsorized - df_winsorized.mean())/ df_winsorized.std()\n",
    "    \n",
    "    return cross_section_zscore, column_zscore\n",
    "\n",
    "cross_section_zscore_df, column_zscore_df = preprocess_yield_curve(dataset)\n",
    "\n",
    "print(\"Cross-section z-score shape:\", cross_section_zscore_df.shape) \n",
    "print(\"Column-wise z-score shape:\", column_zscore_df.shape)"
   ]
  },
  {
   "cell_type": "code",
   "execution_count": 6,
   "id": "291b2345",
   "metadata": {},
   "outputs": [
    {
     "name": "stdout",
     "output_type": "stream",
     "text": [
      "\n",
      "PCA Analysis for Cross-sectional Z-scores:\n",
      "Explained variance ratios: [7.25298298e-01 2.06188051e-01 4.84905423e-02 1.24421198e-02\n",
      " 5.47500675e-03 2.10598191e-03 7.15629809e-17]\n",
      "Cumulative explained variance: [0.7252983  0.93148635 0.97997689 0.99241901 0.99789402 1.\n",
      " 1.        ]\n",
      "\n",
      "PCA Analysis for Column-wise Z-scores:\n",
      "Explained variance ratios: [9.24909451e-01 7.07593620e-02 3.62575141e-03 4.54235203e-04\n",
      " 1.65667244e-04 5.33666127e-05 3.21668834e-05]\n",
      "Cumulative explained variance: [0.92490945 0.99566881 0.99929456 0.9997488  0.99991447 0.99996783\n",
      " 1.        ]\n"
     ]
    }
   ],
   "source": [
    "from sklearn.decomposition import PCA\n",
    "import matplotlib.pyplot as plt\n",
    "import numpy as np\n",
    "\n",
    "# Perform PCA on both normalizations\n",
    "pca_cross = PCA()\n",
    "pca_col = PCA()\n",
    "\n",
    "pca_cross_transformed = pca_cross.fit_transform(cross_section_zscore_df)\n",
    "pca_col_transformed = pca_col.fit_transform(column_zscore_df)\n",
    "\n",
    "# Analyze explained variance ratios\n",
    "print(\"\\nPCA Analysis for Cross-sectional Z-scores:\")\n",
    "print(\"Explained variance ratios:\", pca_cross.explained_variance_ratio_)\n",
    "print(\"Cumulative explained variance:\", np.cumsum(pca_cross.explained_variance_ratio_))\n",
    "\n",
    "print(\"\\nPCA Analysis for Column-wise Z-scores:\")\n",
    "print(\"Explained variance ratios:\", pca_col.explained_variance_ratio_)\n",
    "print(\"Cumulative explained variance:\", np.cumsum(pca_col.explained_variance_ratio_))"
   ]
  },
  {
   "cell_type": "code",
   "execution_count": 17,
   "id": "624bdb91",
   "metadata": {},
   "outputs": [
    {
     "data": {
      "image/png": "[encoded data removed]",
      "text/plain": [
       "<Figure size 1200x500 with 2 Axes>"
      ]
     },
     "metadata": {},
     "output_type": "display_data"
    },
    {
     "name": "stdout",
     "output_type": "stream",
     "text": [
      "\n",
      "Number of components needed to explain 95% of variance:\n",
      "Cross-sectional Z-scores: 3 components\n",
      "Column-wise Z-scores: 2 components\n"
     ]
    }
   ],
   "source": [
    "# Plot explained variance ratios\n",
    "plt.figure(figsize=(12, 5))\n",
    "\n",
    "plt.subplot(1, 2, 1)\n",
    "plt.plot(range(1, len(pca_cross.explained_variance_ratio_) + 1), \n",
    "         np.cumsum(pca_cross.explained_variance_ratio_), \n",
    "         'b-o', label='Cumulative')\n",
    "plt.plot(range(1, len(pca_cross.explained_variance_ratio_) + 1),\n",
    "         pca_cross.explained_variance_ratio_,\n",
    "         'r-o', label='Individual')\n",
    "plt.title('Cross-sectional Z-scores\\nExplained Variance Ratio by Component')\n",
    "plt.xlabel('Principal Component')\n",
    "plt.ylabel('Explained Variance Ratio')\n",
    "plt.grid(True)\n",
    "plt.legend()\n",
    "\n",
    "plt.subplot(1, 2, 2)\n",
    "plt.plot(range(1, len(pca_col.explained_variance_ratio_) + 1),\n",
    "         np.cumsum(pca_col.explained_variance_ratio_),\n",
    "         'b-o', label='Cumulative')\n",
    "plt.plot(range(1, len(pca_col.explained_variance_ratio_) + 1),\n",
    "         pca_col.explained_variance_ratio_,\n",
    "         'r-o', label='Individual')\n",
    "plt.title('Column-wise Z-scores\\nExplained Variance Ratio by Component')\n",
    "plt.xlabel('Principal Component')\n",
    "plt.ylabel('Explained Variance Ratio')\n",
    "plt.grid(True)\n",
    "plt.legend()\n",
    "\n",
    "plt.tight_layout()\n",
    "plt.show()\n",
    "\n",
    "# Print components needed to explain 95% of variance\n",
    "def components_for_variance(explained_variance_ratio, threshold=0.95):\n",
    "    cumsum = np.cumsum(explained_variance_ratio)\n",
    "    return np.argmax(cumsum >= threshold) + 1\n",
    "\n",
    "print(\"\\nNumber of components needed to explain 95% of variance:\")\n",
    "print(f\"Cross-sectional Z-scores: {components_for_variance(pca_cross.explained_variance_ratio_)} components\")\n",
    "print(f\"Column-wise Z-scores: {components_for_variance(pca_col.explained_variance_ratio_)} components\")\n"
   ]
  },
  {
   "cell_type": "code",
   "execution_count": 19,
   "id": "d71b9d16",
   "metadata": {},
   "outputs": [],
   "source": [
    "from src.models.ae_kan import KANAutoencoder\n",
    "\n",
    "kan_model = KANAutoencoder(\n",
    "    input_dim=len(pca_cross.explained_variance_ratio_),  # Number of yield curve points\n",
    "    k=components_for_variance(pca_cross.explained_variance_ratio_),  # Number of components for 95% variance\n",
    "    hidden_dims=[32, 16],\n",
    "\n",
    "    basis_type = \"spline\",\n",
    "    M = 16,\n",
    "    poly_degree = 5,\n",
    "    xmin = -3.5,\n",
    "    xmax = 3.5,\n",
    "    dropout_p = 0.05,\n",
    "    use_silu = True,\n",
    "\n",
    "    loss_type = \"mse\",\n",
    "    huber_delta = 1,\n",
    "\n",
    "    lambda_alpha = 0.0001,\n",
    "    lambda_group = 0.00001,\n",
    "    lambda_tv = 0.0001,\n",
    "    lambda_poly_decay = 0.00001,\n",
    "\n",
    "    use_global_skip = False,\n",
    "    use_skip = False,\n",
    "    skip_init = \"zeros\",\n",
    "    skip_gain = 1,\n",
    "    lambda_skip_l2 = 0,\n",
    "    max_skip_gain = 1\n",
    ")"
   ]
  },
  {
   "cell_type": "code",
   "execution_count": 21,
   "id": "62a174f8",
   "metadata": {},
   "outputs": [
    {
     "name": "stdout",
     "output_type": "stream",
     "text": [
      "Device : cpu\n"
     ]
    }
   ],
   "source": [
    "import torch\n",
    "import sys\n",
    "sys.path.append('src')\n",
    "\n",
    "device = torch.device('cuda' if torch.cuda.is_available() else 'cpu')\n",
    "if torch.cuda.is_available():\n",
    "    print(f\"GPU: {torch.cuda.get_device_name(0)}\")\n",
    "    print(f\"Total memory: {torch.cuda.get_device_properties(0).total_memory / 1024**3:.1f} GB\")\n",
    "    print(f\"Memory available: {torch.cuda.mem_get_info()[0] / 1024**3:.1f} GB\")\n",
    "\n",
    "print(f\"Device : {device}\")"
   ]
  },
  {
   "cell_type": "code",
   "execution_count": null,
   "id": "99aea952",
   "metadata": {},
   "outputs": [
    {
     "name": "stdout",
     "output_type": "stream",
     "text": [
      "⚠️  Utilisation du split aléatoire (validation_split=0.2)\n",
      "   💡 Recommandation: fournir X_val pour données temporelles\n"
     ]
    },
    {
     "ename": "TypeError",
     "evalue": "'int' object is not callable",
     "output_type": "error",
     "traceback": [
      "\u001b[1;31m---------------------------------------------------------------------------\u001b[0m",
      "\u001b[1;31mTypeError\u001b[0m                                 Traceback (most recent call last)",
      "Cell \u001b[1;32mIn[22], line 1\u001b[0m\n\u001b[1;32m----> 1\u001b[0m history \u001b[38;5;241m=\u001b[39m \u001b[43mkan_model\u001b[49m\u001b[38;5;241;43m.\u001b[39;49m\u001b[43mfit\u001b[49m\u001b[43m(\u001b[49m\n\u001b[0;32m      2\u001b[0m \u001b[43m    \u001b[49m\u001b[43mX_train\u001b[49m\u001b[38;5;241;43m=\u001b[39;49m\u001b[43mcolumn_zscore_df\u001b[49m\u001b[38;5;241;43m.\u001b[39;49m\u001b[43mvalues\u001b[49m\u001b[43m,\u001b[49m\n\u001b[0;32m      3\u001b[0m \u001b[43m    \u001b[49m\u001b[43mW_train\u001b[49m\u001b[38;5;241;43m=\u001b[39;49m\u001b[38;5;28;43;01mNone\u001b[39;49;00m\u001b[43m,\u001b[49m\n\u001b[0;32m      4\u001b[0m \u001b[43m    \u001b[49m\u001b[43mM_train\u001b[49m\u001b[38;5;241;43m=\u001b[39;49m\u001b[38;5;28;43;01mNone\u001b[39;49;00m\u001b[43m,\u001b[49m\n\u001b[0;32m      5\u001b[0m \u001b[43m    \u001b[49m\u001b[43mX_val\u001b[49m\u001b[38;5;241;43m=\u001b[39;49m\u001b[38;5;28;43;01mNone\u001b[39;49;00m\u001b[43m,\u001b[49m\n\u001b[0;32m      6\u001b[0m \u001b[43m    \u001b[49m\u001b[43mW_val\u001b[49m\u001b[38;5;241;43m=\u001b[39;49m\u001b[38;5;28;43;01mNone\u001b[39;49;00m\u001b[43m,\u001b[49m\n\u001b[0;32m      7\u001b[0m \u001b[43m    \u001b[49m\u001b[43mM_val\u001b[49m\u001b[38;5;241;43m=\u001b[39;49m\u001b[38;5;28;43;01mNone\u001b[39;49;00m\u001b[43m,\u001b[49m\n\u001b[0;32m      8\u001b[0m \u001b[43m    \u001b[49m\u001b[43mvalidation_split\u001b[49m\u001b[38;5;241;43m=\u001b[39;49m\u001b[38;5;241;43m0.2\u001b[39;49m\u001b[43m,\u001b[49m\n\u001b[0;32m      9\u001b[0m \u001b[43m    \u001b[49m\u001b[43mepochs\u001b[49m\u001b[38;5;241;43m=\u001b[39;49m\u001b[43m \u001b[49m\u001b[38;5;241;43m100\u001b[39;49m\u001b[43m,\u001b[49m\n\u001b[0;32m     10\u001b[0m \u001b[43m    \u001b[49m\u001b[43mbatch_size\u001b[49m\u001b[38;5;241;43m=\u001b[39;49m\u001b[38;5;241;43m64\u001b[39;49m\u001b[43m,\u001b[49m\n\u001b[0;32m     11\u001b[0m \u001b[43m    \u001b[49m\u001b[43mlearning_rate\u001b[49m\u001b[38;5;241;43m=\u001b[39;49m\u001b[38;5;241;43m0.001\u001b[39;49m\u001b[43m,\u001b[49m\n\u001b[0;32m     12\u001b[0m \u001b[43m    \u001b[49m\u001b[43mweight_decay\u001b[49m\u001b[38;5;241;43m=\u001b[39;49m\u001b[38;5;241;43m0.00001\u001b[39;49m\u001b[43m,\u001b[49m\n\u001b[0;32m     13\u001b[0m \u001b[43m    \u001b[49m\u001b[43mpatience\u001b[49m\u001b[38;5;241;43m=\u001b[39;49m\u001b[38;5;241;43m10\u001b[39;49m\u001b[43m,\u001b[49m\n\u001b[0;32m     14\u001b[0m \u001b[43m    \u001b[49m\u001b[43mverbose\u001b[49m\u001b[38;5;241;43m=\u001b[39;49m\u001b[38;5;28;43;01mTrue\u001b[39;49;00m\u001b[43m,\u001b[49m\n\u001b[0;32m     15\u001b[0m \u001b[43m    \u001b[49m\u001b[43mlambda_reg\u001b[49m\u001b[38;5;241;43m=\u001b[39;49m\u001b[38;5;241;43m0.0001\u001b[39;49m\u001b[43m,\u001b[49m\n\u001b[0;32m     16\u001b[0m \u001b[43m    \u001b[49m\u001b[43mdevice\u001b[49m\u001b[38;5;241;43m=\u001b[39;49m\u001b[43mdevice\u001b[49m\u001b[43m,\u001b[49m\n\u001b[0;32m     17\u001b[0m \u001b[43m    \u001b[49m\u001b[43muse_weighted_loss\u001b[49m\u001b[38;5;241;43m=\u001b[39;49m\u001b[38;5;28;43;01mTrue\u001b[39;49;00m\n\u001b[0;32m     18\u001b[0m \u001b[43m)\u001b[49m\n",
      "File \u001b[1;32mc:\\Users\\Etienne.CHATREAUX\\OneDrive - Verisure\\Documents\\Projets dév\\DimRed-KAN-Finance\\src\\models\\ae_kan.py:318\u001b[0m, in \u001b[0;36mKANAutoencoder.fit\u001b[1;34m(self, X_train, W_train, M_train, X_val, W_val, M_val, validation_split, epochs, batch_size, learning_rate, weight_decay, patience, verbose, lambda_reg, device, use_weighted_loss)\u001b[0m\n\u001b[0;32m    315\u001b[0m     \u001b[38;5;28mprint\u001b[39m(\u001b[38;5;124mf\u001b[39m\u001b[38;5;124m\"\u001b[39m\u001b[38;5;124m⚠️  Utilisation du split aléatoire (validation_split=\u001b[39m\u001b[38;5;132;01m{\u001b[39;00mvalidation_split\u001b[38;5;132;01m}\u001b[39;00m\u001b[38;5;124m)\u001b[39m\u001b[38;5;124m\"\u001b[39m)\n\u001b[0;32m    316\u001b[0m     \u001b[38;5;28mprint\u001b[39m(\u001b[38;5;124mf\u001b[39m\u001b[38;5;124m\"\u001b[39m\u001b[38;5;124m   💡 Recommandation: fournir X_val pour données temporelles\u001b[39m\u001b[38;5;124m\"\u001b[39m)\n\u001b[1;32m--> 318\u001b[0m n_samples \u001b[38;5;241m=\u001b[39m \u001b[43mX_train\u001b[49m\u001b[38;5;241;43m.\u001b[39;49m\u001b[43msize\u001b[49m\u001b[43m(\u001b[49m\u001b[38;5;241;43m0\u001b[39;49m\u001b[43m)\u001b[49m\n\u001b[0;32m    319\u001b[0m n_val \u001b[38;5;241m=\u001b[39m \u001b[38;5;28mint\u001b[39m(n_samples \u001b[38;5;241m*\u001b[39m validation_split)\n\u001b[0;32m    320\u001b[0m indices \u001b[38;5;241m=\u001b[39m torch\u001b[38;5;241m.\u001b[39mrandperm(n_samples)\n",
      "\u001b[1;31mTypeError\u001b[0m: 'int' object is not callable"
     ]
    }
   ],
   "source": [
    "history = kan_model.fit(\n",
    "    X_train=column_zscore_df.values,\n",
    "    W_train=None,\n",
    "    M_train=None,\n",
    "    X_val=None,\n",
    "    W_val=None,\n",
    "    M_val=None,\n",
    "    validation_split=0.2,\n",
    "    epochs= 100,\n",
    "    batch_size=64,\n",
    "    learning_rate=0.001,\n",
    "    weight_decay=0.00001,\n",
    "    patience=10,\n",
    "    verbose=True,\n",
    "    lambda_reg=0.0001,\n",
    "    device=device,\n",
    "    use_weighted_loss=True\n",
    ")"
   ]
  }
 ],
 "metadata": {
  "kernelspec": {
   "display_name": "Python 3",
   "language": "python",
   "name": "python3"
  },
  "language_info": {
   "codemirror_mode": {
    "name": "ipython",
    "version": 3
   },
   "file_extension": ".py",
   "mimetype": "text/x-python",
   "name": "python",
   "nbconvert_exporter": "python",
   "pygments_lexer": "ipython3",
   "version": "3.10.0"
  }
 },
 "nbformat": 4,
 "nbformat_minor": 5
}
