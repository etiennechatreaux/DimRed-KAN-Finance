{
 "cells": [
  {
   "cell_type": "code",
   "execution_count": null,
   "id": "8e5c40b4",
   "metadata": {},
   "outputs": [],
   "source": [
    "\n"
   ]
  }
 ],
 "metadata": {
  "language_info": {
   "name": "python"
  }
 },
 "nbformat": 4,
 "nbformat_minor": 5
}
