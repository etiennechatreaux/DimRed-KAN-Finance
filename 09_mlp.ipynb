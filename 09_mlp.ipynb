{
 "cells": [
  {
   "cell_type": "code",
   "execution_count": 1,
   "id": "480fe0ef",
   "metadata": {},
   "outputs": [
    {
     "name": "stdout",
     "output_type": "stream",
     "text": [
      "GPU: NVIDIA GeForce RTX 3070 Laptop GPU\n",
      "Total memory: 8.0 GB\n",
      "Memory available: 6.9 GB\n",
      "Device : cuda\n"
     ]
    }
   ],
   "source": [
    "import pandas as pd\n",
    "from pathlib import Path\n",
    "import torch\n",
    "import sys\n",
    "sys.path.append('src')\n",
    "\n",
    "# from models.ae_kan import KANAutoencoder\n",
    "from src.utils.new_preprocessing import preprocessing_dataset, simple_train_kan, change_hyperparam\n",
    "\n",
    "device = torch.device('cuda' if torch.cuda.is_available() else 'cpu')\n",
    "if torch.cuda.is_available():\n",
    "    print(f\"GPU: {torch.cuda.get_device_name(0)}\")\n",
    "    print(f\"Total memory: {torch.cuda.get_device_properties(0).total_memory / 1024**3:.1f} GB\")\n",
    "    print(f\"Memory available: {torch.cuda.mem_get_info()[0] / 1024**3:.1f} GB\")\n",
    "\n",
    "print(f\"Device : {device}\")"
   ]
  },
  {
   "cell_type": "code",
   "execution_count": 2,
   "id": "e87a2cdc",
   "metadata": {},
   "outputs": [],
   "source": [
    "data_dir = Path(\"data/processed/sectors\")\n",
    "sectors_list = [d.name for d in data_dir.iterdir() if d.is_dir() and d.name != 'unknown']\n",
    "\n",
    "sector_log_returns = {}\n",
    "for sector in sectors_list:\n",
    "    returns_path = data_dir / sector / \"log_returns.csv\"\n",
    "    df = pd.read_csv(returns_path, index_col=0)\n",
    "    sector_log_returns[sector] = df.iloc[1:]  # Skip first row with NaN values"
   ]
  },
  {
   "cell_type": "code",
   "execution_count": 3,
   "id": "92f76bbe",
   "metadata": {},
   "outputs": [
    {
     "name": "stdout",
     "output_type": "stream",
     "text": [
      "\n",
      "Sector: utilities\n",
      "Train: 2987 échantillons\n",
      "Test: 747 échantillons\n",
      "Dates train: 2010-03-03 à 2022-01-10\n",
      "Dates test: 2022-01-11 à 2024-12-31\n"
     ]
    }
   ],
   "source": [
    "X_df = {}\n",
    "W_df = {}\n",
    "M_df = {}\n",
    "data = {}\n",
    "\n",
    "for sector in sector_log_returns:\n",
    "    # Preprocess data for each sector\n",
    "    X_df[sector], W_df[sector], M_df[sector] = preprocessing_dataset(\n",
    "        log_returns_df=sector_log_returns[sector],\n",
    "        win=60,\n",
    "        min_periods=40,\n",
    "        clip_val=3.0,\n",
    "        min_valid_per_day=5,\n",
    "        use_median=True,\n",
    "        soft_weights=True\n",
    "    )\n",
    "    \n",
    "    # Create tensors for each sector\n",
    "    tensors = {\n",
    "        'X': torch.tensor(X_df[sector].values, dtype=torch.float32),\n",
    "        'W': torch.tensor(W_df[sector].values, dtype=torch.float32),\n",
    "        'M': torch.tensor(M_df[sector].values, dtype=torch.float32)\n",
    "    }\n",
    "\n",
    "    # Split into train/test for each sector\n",
    "    train_size = int(0.8 * len(tensors['X']))\n",
    "    data[sector] = {\n",
    "        'train': {\n",
    "            'X': tensors['X'][:train_size],\n",
    "            'W': tensors['W'][:train_size],\n",
    "            'M': tensors['M'][:train_size]\n",
    "        },\n",
    "        'test': {\n",
    "            'X': tensors['X'][train_size:],\n",
    "            'W': tensors['W'][train_size:],\n",
    "            'M': tensors['M'][train_size:]\n",
    "        }\n",
    "    }\n",
    "\n",
    "print(f\"\\nSector: {sector}\")\n",
    "print(f\"Train: {data[sector]['train']['X'].shape[0]} échantillons\")\n",
    "print(f\"Test: {data[sector]['test']['X'].shape[0]} échantillons\") \n",
    "print(f\"Dates train: {X_df[sector].index[0]} à {X_df[sector].index[train_size-1]}\")\n",
    "print(f\"Dates test: {X_df[sector].index[train_size]} à {X_df[sector].index[-1]}\")"
   ]
  },
  {
   "cell_type": "code",
   "execution_count": 4,
   "id": "fd9b491a",
   "metadata": {},
   "outputs": [],
   "source": [
    "log_returns_df = pd.read_csv(\"data/processed/dataset_log_returns.csv\", index_col=0)\n",
    "log_returns_df = log_returns_df.iloc[1:]"
   ]
  },
  {
   "cell_type": "code",
   "execution_count": 6,
   "id": "90de2589",
   "metadata": {},
   "outputs": [],
   "source": [
    "sp500_X_df, sp500_W_df, sp500_M_df = preprocessing_dataset(\n",
    "    log_returns_df=log_returns_df,  # Utilise tous les returns\n",
    "    win=60,\n",
    "    min_periods=40, \n",
    "    clip_val=3.0,\n",
    "    min_valid_per_day=5,\n",
    "    use_median=True,\n",
    "    soft_weights=True\n",
    ")\n",
    "\n",
    "sp500_tensors = {\n",
    "    'X': torch.tensor(sp500_X_df.values, dtype=torch.float32),\n",
    "    'W': torch.tensor(sp500_W_df.values, dtype=torch.float32), \n",
    "    'M': torch.tensor(sp500_M_df.values, dtype=torch.float32)\n",
    "}\n",
    "\n",
    "# Split train/test\n",
    "train_size = int(0.8 * len(sp500_tensors['X']))\n",
    "full_data = {\n",
    "    'train': {\n",
    "        'X': sp500_tensors['X'][:train_size],\n",
    "        'W': sp500_tensors['W'][:train_size],\n",
    "        'M': sp500_tensors['M'][:train_size]\n",
    "    },\n",
    "    'test': {\n",
    "        'X': sp500_tensors['X'][train_size:],\n",
    "        'W': sp500_tensors['W'][train_size:],\n",
    "        'M': sp500_tensors['M'][train_size:]\n",
    "    }\n",
    "}"
   ]
  },
  {
   "cell_type": "markdown",
   "id": "f43b1ad2",
   "metadata": {},
   "source": [
    "# MLP AE Training"
   ]
  },
  {
   "cell_type": "code",
   "execution_count": 11,
   "id": "16cac289",
   "metadata": {},
   "outputs": [
    {
     "name": "stdout",
     "output_type": "stream",
     "text": [
      "\n",
      "🏗️ Architecture MLP Autoencoder:\n",
      "Input: 423 → Encoder: 256 → 128 → 64 → Latent: 10\n",
      "Latent: 10 → Decoder: 64 → 128 → 256 → Output: 423\n",
      "📊 Paramètres totaux: 302,769\n",
      "📊 Paramètres entraînables: 302,769\n"
     ]
    }
   ],
   "source": [
    "from src.models.ae_mlp import MLPAutoencoder\n",
    "\n",
    "\n",
    "input_dim = full_data['train']['X'].shape[1]\n",
    "k = 10  # Nombre de facteurs latents\n",
    "hidden_dims = (256, 128, 64)  # Architecture de l'encodeur\n",
    "\n",
    "# Création du modèle\n",
    "mlp_model = MLPAutoencoder(\n",
    "    input_dim=input_dim,\n",
    "    k=k,\n",
    "    hidden=hidden_dims,\n",
    "    activation='silu',\n",
    "    use_bn=True,        # Batch normalization\n",
    "    dropout_p=0.1,      # Dropout pour régularisation\n",
    "    loss_type='huber',     # Mean Squared Error\n",
    ").to(device)\n",
    "\n",
    "# Affichage de l'architecture\n",
    "print(\"\\n🏗️ Architecture MLP Autoencoder:\")\n",
    "print(f\"Input: {input_dim} → Encoder: {' → '.join(map(str, hidden_dims))} → Latent: {k}\")\n",
    "print(f\"Latent: {k} → Decoder: {' → '.join(map(str, reversed(hidden_dims)))} → Output: {input_dim}\")\n",
    "\n",
    "# Nombre de paramètres\n",
    "total_params = sum(p.numel() for p in mlp_model.parameters())\n",
    "trainable_params = sum(p.numel() for p in mlp_model.parameters() if p.requires_grad)\n",
    "print(f\"📊 Paramètres totaux: {total_params:,}\")\n",
    "print(f\"📊 Paramètres entraînables: {trainable_params:,}\")"
   ]
  },
  {
   "cell_type": "code",
   "execution_count": 12,
   "id": "b683b3af",
   "metadata": {},
   "outputs": [
    {
     "name": "stdout",
     "output_type": "stream",
     "text": [
      "⚙️ Configuration d'entraînement:\n",
      "   epochs: 150\n",
      "   batch_size: 128\n",
      "   learning_rate: 0.001\n",
      "   weight_decay: 1e-05\n",
      "   validation_split: 0.2\n",
      "   patience: 15\n",
      "   verbose: True\n"
     ]
    },
    {
     "name": "stderr",
     "output_type": "stream",
     "text": [
      "c:\\Users\\xtrem\\Documents\\Git\\DimRed-KAN-Finance\\src\\models\\ae_mlp.py:188: FutureWarning: `torch.cuda.amp.GradScaler(args...)` is deprecated. Please use `torch.amp.GradScaler('cuda', args...)` instead.\n",
      "  scaler = torch.cuda.amp.GradScaler(enabled=(amp and device.type == \"cuda\"))\n"
     ]
    },
    {
     "name": "stdout",
     "output_type": "stream",
     "text": [
      "========================================================================================\n",
      "🚀 ENTRAÎNEMENT MLP AUTOENCODER\n",
      "========================================================================================\n",
      "📊 Data: 2390 train | 597 val\n",
      "🏗️  Arch: 423 -> 256 -> 128 -> 64 -> 10 -> 64 -> 128 -> 256 -> 423\n",
      "⚙️  Params: epochs=150, bs=128, lr=0.001, loss=huber\n",
      "🔧 Device: cuda | AMP: True\n",
      "🔢 Paramètres: 302,769 total | 302,769 entraînables\n",
      "----------------------------------------------------------------------------------------\n"
     ]
    },
    {
     "name": "stderr",
     "output_type": "stream",
     "text": [
      "c:\\Users\\xtrem\\Documents\\Git\\DimRed-KAN-Finance\\src\\models\\ae_mlp.py:220: FutureWarning: `torch.cuda.amp.autocast(args...)` is deprecated. Please use `torch.amp.autocast('cuda', args...)` instead.\n",
      "  with torch.cuda.amp.autocast(enabled=(amp and device.type == \"cuda\")):\n"
     ]
    },
    {
     "name": "stdout",
     "output_type": "stream",
     "text": [
      "📈 Époque   1/150 | Train: 0.630550 | Val: 0.556167 ⚠️ | LR: 1.00e-03 | ⏱️ 5.2s (ETA: 768.8s)\n",
      "📈 Époque   2/150 | Train: 0.546960 | Val: 0.521100 ⚠️ | LR: 1.00e-03 | ⏱️ 5.5s (ETA: 405.2s)\n",
      "📈 Époque   3/150 | Train: 0.525842 | Val: 0.506419 ⚠️ | LR: 1.00e-03 | ⏱️ 5.7s (ETA: 280.9s)\n",
      "📈 Époque   4/150 | Train: 0.511417 | Val: 0.493059 ⚠️ | LR: 1.00e-03 | ⏱️ 6.1s (ETA: 221.7s)\n",
      "📈 Époque   5/150 | Train: 0.501103 | Val: 0.487359 ⚠️ | LR: 1.00e-03 | ⏱️ 6.4s (ETA: 185.8s)\n",
      "📈 Époque   6/150 | Train: 0.494748 | Val: 0.484613 ⚠️ | LR: 1.00e-03 | ⏱️ 6.8s (ETA: 162.2s)\n",
      "📈 Époque   7/150 | Train: 0.491428 | Val: 0.482608 ⚠️ | LR: 1.00e-03 | ⏱️ 7.1s (ETA: 145.2s)\n",
      "📈 Époque   8/150 | Train: 0.489405 | Val: 0.480828 ⚠️ | LR: 1.00e-03 | ⏱️ 7.4s (ETA: 131.8s)\n",
      "📈 Époque   9/150 | Train: 0.484293 | Val: 0.477033 ⚠️ | LR: 1.00e-03 | ⏱️ 7.7s (ETA: 121.1s)\n",
      "📈 Époque  10/150 | Train: 0.480937 | Val: 0.472127 ⚠️ | LR: 1.00e-03 | ⏱️ 8.0s (ETA: 112.3s)\n",
      "📈 Époque  11/150 | Train: 0.476078 | Val: 0.467990 ⚠️ | LR: 1.00e-03 | ⏱️ 8.3s (ETA: 105.1s)\n",
      "📈 Époque  12/150 | Train: 0.473762 | Val: 0.465901 ⚠️ | LR: 1.00e-03 | ⏱️ 8.6s (ETA: 98.8s)\n",
      "📈 Époque  13/150 | Train: 0.470124 | Val: 0.463129 ⚠️ | LR: 1.00e-03 | ⏱️ 8.9s (ETA: 93.9s)\n",
      "📈 Époque  14/150 | Train: 0.466467 | Val: 0.462201 ⚠️ | LR: 1.00e-03 | ⏱️ 9.2s (ETA: 89.2s)\n",
      "📈 Époque  15/150 | Train: 0.466858 | Val: 0.459591 ⚠️ | LR: 1.00e-03 | ⏱️ 9.5s (ETA: 85.3s)\n",
      "📈 Époque  16/150 | Train: 0.462106 | Val: 0.459461 ⚠️ | LR: 1.00e-03 | ⏱️ 9.8s (ETA: 81.7s)\n",
      "📈 Époque  17/150 | Train: 0.461459 | Val: 0.458875 ⚠️ | LR: 1.00e-03 | ⏱️ 10.1s (ETA: 78.8s)\n",
      "📈 Époque  18/150 | Train: 0.459682 | Val: 0.458432 ⚠️ | LR: 1.00e-03 | ⏱️ 10.4s (ETA: 76.0s)\n",
      "📈 Époque  19/150 | Train: 0.459789 | Val: 0.458106 ⚠️ | LR: 1.00e-03 | ⏱️ 10.6s (ETA: 73.4s)\n",
      "📈 Époque  20/150 | Train: 0.458334 | Val: 0.457341 ⚠️ | LR: 1.00e-03 | ⏱️ 11.0s (ETA: 71.2s)\n",
      "📈 Époque  21/150 | Train: 0.456661 | Val: 0.457139 ⚠️ | LR: 1.00e-03 | ⏱️ 11.3s (ETA: 69.1s)\n",
      "📈 Époque  22/150 | Train: 0.455949 | Val: 0.457851 ⚠️ | LR: 1.00e-03 | ⏱️ 11.5s (ETA: 67.2s)\n",
      "📈 Époque  23/150 | Train: 0.454283 | Val: 0.456670 ⚠️ | LR: 1.00e-03 | ⏱️ 11.9s (ETA: 65.5s)\n",
      "📈 Époque  24/150 | Train: 0.453505 | Val: 0.457016 ⚠️ | LR: 1.00e-03 | ⏱️ 12.1s (ETA: 63.7s)\n",
      "📈 Époque  25/150 | Train: 0.453197 | Val: 0.458263 ⚠️ | LR: 1.00e-03 | ⏱️ 12.4s (ETA: 62.0s)\n",
      "📈 Époque  26/150 | Train: 0.452221 | Val: 0.457598 ⚠️ | LR: 1.00e-03 | ⏱️ 12.7s (ETA: 60.6s)\n",
      "📈 Époque  27/150 | Train: 0.451916 | Val: 0.457091 ⚠️ | LR: 1.00e-03 | ⏱️ 13.0s (ETA: 59.2s)\n",
      "📈 Époque  28/150 | Train: 0.450941 | Val: 0.457473 ⚠️ | LR: 1.00e-03 | ⏱️ 13.3s (ETA: 58.0s)\n",
      "📈 Époque  29/150 | Train: 0.450559 | Val: 0.457272 ⚠️ | LR: 1.00e-03 | ⏱️ 13.6s (ETA: 56.7s)\n",
      "📈 Époque  30/150 | Train: 0.450920 | Val: 0.457175 ⚠️ | LR: 1.00e-03 | ⏱️ 13.9s (ETA: 55.5s)\n",
      "📈 Époque  31/150 | Train: 0.449588 | Val: 0.457535 ⚠️ | LR: 5.00e-04 | ⏱️ 14.2s (ETA: 54.4s)\n",
      "📈 Époque  32/150 | Train: 0.446698 | Val: 0.456722 ⚠️ | LR: 5.00e-04 | ⏱️ 14.5s (ETA: 53.3s)\n",
      "📈 Époque  33/150 | Train: 0.448133 | Val: 0.456945 ⚠️ | LR: 5.00e-04 | ⏱️ 14.8s (ETA: 52.3s)\n",
      "📈 Époque  34/150 | Train: 0.446633 | Val: 0.456441 ⚠️ | LR: 5.00e-04 | ⏱️ 15.0s (ETA: 51.3s)\n",
      "📈 Époque  35/150 | Train: 0.447043 | Val: 0.457100 ⚠️ | LR: 5.00e-04 | ⏱️ 15.3s (ETA: 50.3s)\n",
      "📈 Époque  36/150 | Train: 0.445593 | Val: 0.456450 ⚠️ | LR: 5.00e-04 | ⏱️ 15.6s (ETA: 49.4s)\n",
      "📈 Époque  37/150 | Train: 0.444777 | Val: 0.456680 ⚠️ | LR: 5.00e-04 | ⏱️ 15.9s (ETA: 48.5s)\n",
      "📈 Époque  38/150 | Train: 0.445328 | Val: 0.456805 ⚠️ | LR: 5.00e-04 | ⏱️ 16.1s (ETA: 47.6s)\n",
      "📈 Époque  39/150 | Train: 0.445261 | Val: 0.456530 ⚠️ | LR: 5.00e-04 | ⏱️ 16.4s (ETA: 46.7s)\n",
      "📈 Époque  40/150 | Train: 0.443686 | Val: 0.457119 ⚠️ | LR: 5.00e-04 | ⏱️ 16.7s (ETA: 45.9s)\n",
      "📈 Époque  41/150 | Train: 0.444004 | Val: 0.457203 ⚠️ | LR: 5.00e-04 | ⏱️ 17.0s (ETA: 45.1s)\n",
      "📈 Époque  42/150 | Train: 0.444611 | Val: 0.457041 ⚠️ | LR: 2.50e-04 | ⏱️ 17.3s (ETA: 44.4s)\n",
      "📈 Époque  43/150 | Train: 0.443639 | Val: 0.456977 ⚠️ | LR: 2.50e-04 | ⏱️ 17.6s (ETA: 43.7s)\n",
      "📈 Époque  44/150 | Train: 0.441603 | Val: 0.456614 ⚠️ | LR: 2.50e-04 | ⏱️ 17.8s (ETA: 42.9s)\n",
      "📈 Époque  45/150 | Train: 0.443384 | Val: 0.456872 ⚠️ | LR: 2.50e-04 | ⏱️ 18.1s (ETA: 42.2s)\n",
      "📈 Époque  46/150 | Train: 0.441320 | Val: 0.456806 ⚠️ | LR: 2.50e-04 | ⏱️ 18.4s (ETA: 41.6s)\n",
      "📈 Époque  47/150 | Train: 0.442118 | Val: 0.456725 ⚠️ | LR: 2.50e-04 | ⏱️ 18.7s (ETA: 40.9s)\n",
      "📈 Époque  48/150 | Train: 0.441185 | Val: 0.456697 ⚠️ | LR: 2.50e-04 | ⏱️ 19.0s (ETA: 40.3s)\n",
      "🛑 Early stopping à l'époque 49\n",
      "----------------------------------------------------------------------------------------\n",
      "🎉 ENTRAÎNEMENT TERMINÉ EN 19.34s\n",
      "----------------------------------------------------------------------------------------\n",
      "📊 MSE/BCE finale (selon loss): 0.433045\n",
      "\n",
      "✅ Entraînement terminé en 22.8s\n",
      "🎯 Meilleure loss de validation: 0.456441\n",
      "📈 Loss finale d'entraînement: 0.441185\n"
     ]
    }
   ],
   "source": [
    "from datetime import datetime\n",
    "\n",
    "# Paramètres d'entraînement\n",
    "training_config = {\n",
    "    'epochs': 150,\n",
    "    'batch_size': 128,\n",
    "    'learning_rate': 1e-3,\n",
    "    'weight_decay': 1e-5,\n",
    "    'validation_split': 0.2,\n",
    "    'patience': 15,\n",
    "    'verbose': True\n",
    "}\n",
    "\n",
    "print(f\"⚙️ Configuration d'entraînement:\")\n",
    "for key, value in training_config.items():\n",
    "    print(f\"   {key}: {value}\")\n",
    "\n",
    "# Entraînement\n",
    "start_time = datetime.now()\n",
    "history = mlp_model.fit(\n",
    "    X=full_data['train']['X'],\n",
    "    **training_config,\n",
    "    device=device\n",
    ")\n",
    "end_time = datetime.now()\n",
    "\n",
    "print(f\"\\n✅ Entraînement terminé en {(end_time - start_time).total_seconds():.1f}s\")\n",
    "print(f\"🎯 Meilleure loss de validation: {min(history.get('val_loss', [float('inf')])):.6f}\")\n",
    "print(f\"📈 Loss finale d'entraînement: {history['train_loss'][-1]:.6f}\")"
   ]
  },
  {
   "cell_type": "code",
   "execution_count": 18,
   "id": "0ed27ef0",
   "metadata": {},
   "outputs": [
    {
     "name": "stdout",
     "output_type": "stream",
     "text": [
      "📊 Résultats sur le test set:\n",
      "   Test Loss (MSE): 0.471434\n",
      "   Facteurs latents extraits: torch.Size([747, 10])\n"
     ]
    },
    {
     "data": {
      "text/plain": [
       "array([[ 0.06301846,  1.6323444 ,  0.16469994, ..., -0.00718171,\n",
       "        -0.7254632 ,  0.24720708],\n",
       "       [-0.2954598 ,  0.20041834,  0.15535465, ...,  0.05154741,\n",
       "        -0.41020387, -0.23822749],\n",
       "       [-0.22140305, -2.5531628 , -1.0050205 , ...,  0.04847025,\n",
       "        -0.25339124, -1.1358911 ],\n",
       "       ...,\n",
       "       [-0.01696738, -0.18450212, -0.36065343, ..., -0.01118131,\n",
       "         0.58962846,  0.21017762],\n",
       "       [-0.47082907,  0.1588896 , -0.25789538, ..., -0.51135546,\n",
       "        -0.13005517, -0.1096333 ],\n",
       "       [ 0.51367134, -0.34206262,  0.20753276, ..., -0.450657  ,\n",
       "         0.1249038 , -0.03257283]], dtype=float32)"
      ]
     },
     "execution_count": 18,
     "metadata": {},
     "output_type": "execute_result"
    }
   ],
   "source": [
    "# Évaluation sur les données de test\n",
    "mlp_model.eval()\n",
    "with torch.no_grad():\n",
    "    X_test = full_data['test']['X'].to(device)\n",
    "    \n",
    "    # Extraction des facteurs latents\n",
    "    latent_factors = mlp_model.encode(X_test)\n",
    "    \n",
    "    # Reconstruction - Utiliser la méthode reconstruct()\n",
    "    X_reconstructed = mlp_model.reconstruct(X_test)\n",
    "    \n",
    "    # Calcul de l'erreur de reconstruction\n",
    "    test_loss = torch.nn.functional.mse_loss(X_reconstructed, X_test).item()\n",
    "    \n",
    "    print(f\"📊 Résultats sur le test set:\")\n",
    "    print(f\"   Test Loss (MSE): {test_loss:.6f}\")\n",
    "    print(f\"   Facteurs latents extraits: {latent_factors.shape}\")\n",
    "    \n",
    "    # Conversion en numpy pour analyse\n",
    "    latent_factors_np = latent_factors.cpu().numpy()\n",
    "    X_test_np = X_test.cpu().numpy()\n",
    "    X_recon_np = X_reconstructed.cpu().numpy()\n",
    "\n",
    "\n",
    "latent_factors_np"
   ]
  },
  {
   "cell_type": "code",
   "execution_count": 24,
   "id": "b2cace56",
   "metadata": {},
   "outputs": [
    {
     "data": {
      "image/png": "[encoded data removed]",
      "text/plain": [
       "<Figure size 1000x500 with 1 Axes>"
      ]
     },
     "metadata": {},
     "output_type": "display_data"
    }
   ],
   "source": [
    "import matplotlib.pyplot as plt\n",
    "\n",
    "plt.figure(figsize=(10, 5))\n",
    "plt.plot(latent_factors_np[3], color='blue', alpha=0.8)\n",
    "plt.xlabel('Échantillon')\n",
    "plt.ylabel('Valeur du facteur latent')\n",
    "plt.title('Premier facteur latent extrait par l\\'autoencoder MLP', fontsize=12, fontweight='bold')\n",
    "plt.grid(True, alpha=0.3)\n",
    "plt.show()\n"
   ]
  },
  {
   "cell_type": "code",
   "execution_count": null,
   "id": "dc4fb816",
   "metadata": {},
   "outputs": [
    {
     "data": {
      "text/html": [
       "<div>\n",
       "<style scoped>\n",
       "    .dataframe tbody tr th:only-of-type {\n",
       "        vertical-align: middle;\n",
       "    }\n",
       "\n",
       "    .dataframe tbody tr th {\n",
       "        vertical-align: top;\n",
       "    }\n",
       "\n",
       "    .dataframe thead th {\n",
       "        text-align: right;\n",
       "    }\n",
       "</style>\n",
       "<table border=\"1\" class=\"dataframe\">\n",
       "  <thead>\n",
       "    <tr style=\"text-align: right;\">\n",
       "      <th></th>\n",
       "      <th>Original</th>\n",
       "      <th>Reconstruction</th>\n",
       "      <th>Erreur quadratique</th>\n",
       "    </tr>\n",
       "  </thead>\n",
       "  <tbody>\n",
       "    <tr>\n",
       "      <th>0</th>\n",
       "      <td>-0.845588</td>\n",
       "      <td>0.163924</td>\n",
       "      <td>1.019114</td>\n",
       "    </tr>\n",
       "    <tr>\n",
       "      <th>1</th>\n",
       "      <td>-1.214788</td>\n",
       "      <td>-0.682034</td>\n",
       "      <td>0.283826</td>\n",
       "    </tr>\n",
       "    <tr>\n",
       "      <th>2</th>\n",
       "      <td>1.094769</td>\n",
       "      <td>0.468030</td>\n",
       "      <td>0.392802</td>\n",
       "    </tr>\n",
       "    <tr>\n",
       "      <th>3</th>\n",
       "      <td>0.927039</td>\n",
       "      <td>0.633999</td>\n",
       "      <td>0.085873</td>\n",
       "    </tr>\n",
       "    <tr>\n",
       "      <th>4</th>\n",
       "      <td>-0.352534</td>\n",
       "      <td>0.336345</td>\n",
       "      <td>0.474553</td>\n",
       "    </tr>\n",
       "    <tr>\n",
       "      <th>...</th>\n",
       "      <td>...</td>\n",
       "      <td>...</td>\n",
       "      <td>...</td>\n",
       "    </tr>\n",
       "    <tr>\n",
       "      <th>418</th>\n",
       "      <td>-0.400132</td>\n",
       "      <td>0.037363</td>\n",
       "      <td>0.191402</td>\n",
       "    </tr>\n",
       "    <tr>\n",
       "      <th>419</th>\n",
       "      <td>-1.987534</td>\n",
       "      <td>-0.553962</td>\n",
       "      <td>2.055130</td>\n",
       "    </tr>\n",
       "    <tr>\n",
       "      <th>420</th>\n",
       "      <td>-1.416983</td>\n",
       "      <td>-0.214371</td>\n",
       "      <td>1.446276</td>\n",
       "    </tr>\n",
       "    <tr>\n",
       "      <th>421</th>\n",
       "      <td>-0.378731</td>\n",
       "      <td>-0.052502</td>\n",
       "      <td>0.106426</td>\n",
       "    </tr>\n",
       "    <tr>\n",
       "      <th>422</th>\n",
       "      <td>-0.256629</td>\n",
       "      <td>-0.302470</td>\n",
       "      <td>0.002101</td>\n",
       "    </tr>\n",
       "  </tbody>\n",
       "</table>\n",
       "<p>423 rows × 3 columns</p>\n",
       "</div>"
      ],
      "text/plain": [
       "     Original  Reconstruction  Erreur quadratique\n",
       "0   -0.845588        0.163924            1.019114\n",
       "1   -1.214788       -0.682034            0.283826\n",
       "2    1.094769        0.468030            0.392802\n",
       "3    0.927039        0.633999            0.085873\n",
       "4   -0.352534        0.336345            0.474553\n",
       "..        ...             ...                 ...\n",
       "418 -0.400132        0.037363            0.191402\n",
       "419 -1.987534       -0.553962            2.055130\n",
       "420 -1.416983       -0.214371            1.446276\n",
       "421 -0.378731       -0.052502            0.106426\n",
       "422 -0.256629       -0.302470            0.002101\n",
       "\n",
       "[423 rows x 3 columns]"
      ]
     },
     "metadata": {},
     "output_type": "display_data"
    },
    {
     "name": "stdout",
     "output_type": "stream",
     "text": [
      "\n",
      "Erreur de reconstruction moyenne (MSE) pour l'exemple 42: 0.651287\n"
     ]
    }
   ],
   "source": [
    "# Comparaison entrée/sortie pour un exemple\n",
    "import pandas as pd\n",
    "\n",
    "# Sélection d'un exemple aléatoire\n",
    "sample_idx = 42  # On peut changer cet indice\n",
    "\n",
    "# Création d'un DataFrame avec les valeurs originales et reconstruites\n",
    "comparison_df = pd.DataFrame({\n",
    "    'Original': X_test_np[sample_idx],\n",
    "    'Reconstruction': X_recon_np[sample_idx],\n",
    "    'Erreur quadratique': (X_test_np[sample_idx] - X_recon_np[sample_idx])**2\n",
    "})\n",
    "\n",
    "# Affichage du DataFrame avec formatage\n",
    "pd.set_option('display.float_format', lambda x: '%.6f' % x)\n",
    "display(comparison_df)\n",
    "\n",
    "# Affichage de l'erreur de reconstruction moyenne\n",
    "mse = ((X_test_np[sample_idx] - X_recon_np[sample_idx])**2).mean()\n",
    "print(f\"\\nErreur de reconstruction moyenne (MSE) pour l'exemple {sample_idx}: {mse:.6f}\")"
   ]
  }
 ],
 "metadata": {
  "kernelspec": {
   "display_name": "Python 3",
   "language": "python",
   "name": "python3"
  },
  "language_info": {
   "codemirror_mode": {
    "name": "ipython",
    "version": 3
   },
   "file_extension": ".py",
   "mimetype": "text/x-python",
   "name": "python",
   "nbconvert_exporter": "python",
   "pygments_lexer": "ipython3",
   "version": "3.10.0"
  }
 },
 "nbformat": 4,
 "nbformat_minor": 5
}
