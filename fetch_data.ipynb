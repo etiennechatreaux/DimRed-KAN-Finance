{
 "cells": [
  {
   "cell_type": "markdown",
   "id": "cdc2c19c",
   "metadata": {},
   "source": [
    "# Fetch the data from yfinance"
   ]
  },
  {
   "cell_type": "code",
   "execution_count": 39,
   "id": "a6474222",
   "metadata": {},
   "outputs": [],
   "source": [
    "import pandas as pd\n",
    "import yfinance as yf\n",
    "import time\n",
    "import os\n",
    "import random\n",
    "import tqdm\n",
    "\n",
    "def fetch_data(ticker, start='2015-01-01', end='2025-01-01', wait=True):\n",
    "    if os.path.exists(f'data/raw/{ticker}.csv'):\n",
    "        print(f'{ticker} already exists')\n",
    "        return pd.read_csv(f'data/raw/{ticker}.csv')\n",
    "    else:\n",
    "        try:\n",
    "            data = yf.download(ticker, start=start, end=end, auto_adjust=True)\n",
    "            data.to_csv(f'data/raw/{ticker}.csv')\n",
    "            print(f'{ticker} fetched and saved')\n",
    "            if wait:\n",
    "                time.sleep(random.randint(62, 300))\n",
    "            return data\n",
    "        except Exception as e:\n",
    "            print(f'Error fetching {ticker}: {e}')\n",
    "            return None\n",
    "        \n",
    "def get_sp500_tickers():\n",
    "    \"\"\"\n",
    "    Get list of S&P 500 tickers from Wikipedia\n",
    "    \"\"\"\n",
    "    try:\n",
    "        # Get S&P 500 table from Wikipedia\n",
    "        url = 'https://en.wikipedia.org/wiki/List_of_S%26P_500_companies'\n",
    "        table = pd.read_html(url)[0]\n",
    "        \n",
    "        # Get tickers from first column\n",
    "        tickers = table['Symbol'].tolist()\n",
    "        \n",
    "        print(f\"Retrieved {len(tickers)} S&P 500 tickers\")\n",
    "        return tickers\n",
    "        \n",
    "    except Exception as e:\n",
    "        print(f\"Error getting S&P 500 tickers: {e}\")\n",
    "        return None\n",
    "    \n",
    "def format_data(data):\n",
    "    data = data.iloc[2:].copy()\n",
    "    data['Date'] = pd.to_datetime(data['Price'])\n",
    "    data.drop('Price', axis=1, inplace=True)\n",
    "    data.set_index('Date', inplace=True)\n",
    "    return data\n",
    "    \n",
    "    \n",
    "    \n",
    "def import_all_data(folder_with_csv):\n",
    "    all_data = {}\n",
    "    for file in os.listdir(folder_with_csv):\n",
    "        data = format_data(pd.read_csv(os.path.join(folder_with_csv, file)))\n",
    "        filename = file.split('.')[0]\n",
    "        all_data[filename] = data\n",
    "    return all_data"
   ]
  },
  {
   "cell_type": "code",
   "execution_count": 2,
   "id": "6997a115",
   "metadata": {},
   "outputs": [
    {
     "name": "stdout",
     "output_type": "stream",
     "text": [
      "Retrieved 503 S&P 500 tickers\n"
     ]
    }
   ],
   "source": [
    "sp500_tickers = get_sp500_tickers()"
   ]
  },
  {
   "cell_type": "code",
   "execution_count": 3,
   "id": "77e5ab50",
   "metadata": {},
   "outputs": [
    {
     "name": "stdout",
     "output_type": "stream",
     "text": [
      "Number of CSV files in data/raw: 502\n"
     ]
    }
   ],
   "source": [
    "import os \n",
    "\n",
    "csv_count = len([f for f in os.listdir('data/raw') if f.endswith('.csv')])\n",
    "print(f\"Number of CSV files in data/raw: {csv_count}\")"
   ]
  },
  {
   "cell_type": "code",
   "execution_count": null,
   "id": "fb80c64d",
   "metadata": {},
   "outputs": [],
   "source": [
    "for ticker in tqdm.tqdm(sp500_tickers):\n",
    "    start = '2015-01-01'\n",
    "    end = '2025-01-01'\n",
    "\n",
    "    data = fetch_data(ticker, start, end, wait=False)"
   ]
  },
  {
   "cell_type": "code",
   "execution_count": 41,
   "id": "885a6b6d",
   "metadata": {},
   "outputs": [],
   "source": [
    "all_data = import_all_data(\"data/raw\")"
   ]
  },
  {
   "cell_type": "code",
   "execution_count": 47,
   "id": "a7293110",
   "metadata": {},
   "outputs": [],
   "source": [
    "def verify_data(data_df, first='2015-01-02', last='2024-12-31'):\n",
    "    # Check if first date is 2015-01-02 and last date is 2024-12-31\n",
    "    first_date = data_df.index[0]\n",
    "    last_date = data_df.index[-1]\n",
    "    \n",
    "    expected_first = pd.Timestamp(first)\n",
    "    expected_last = pd.Timestamp(last)\n",
    "    \n",
    "    if first_date != expected_first or last_date != expected_last:\n",
    "        print(\"Error\")\n",
    "        print(f\"Expected range: {expected_first} to {expected_last}\")\n",
    "        print(f\"Actual range: {first_date} to {last_date}\")\n",
    "        return False\n",
    "        \n",
    "    return True"
   ]
  },
  {
   "cell_type": "code",
   "execution_count": 49,
   "id": "2e3692e2",
   "metadata": {},
   "outputs": [
    {
     "name": "stdout",
     "output_type": "stream",
     "text": [
      "Error\n",
      "Expected range: 2015-01-02 00:00:00 to 2024-12-31 00:00:00\n",
      "Actual range: 2020-12-10 00:00:00 to 2024-12-31 00:00:00\n",
      "Error verifying data for BF: index 0 is out of bounds for axis 0 with size 0\n",
      "Error verifying data for BRK: index 0 is out of bounds for axis 0 with size 0\n",
      "Error\n",
      "Expected range: 2015-01-02 00:00:00 to 2024-12-31 00:00:00\n",
      "Actual range: 2020-03-19 00:00:00 to 2024-12-31 00:00:00\n",
      "Error\n",
      "Expected range: 2015-01-02 00:00:00 to 2024-12-31 00:00:00\n",
      "Actual range: 2022-01-19 00:00:00 to 2024-12-31 00:00:00\n",
      "Error\n",
      "Expected range: 2015-01-02 00:00:00 to 2024-12-31 00:00:00\n",
      "Actual range: 2021-04-14 00:00:00 to 2024-12-31 00:00:00\n",
      "Error\n",
      "Expected range: 2015-01-02 00:00:00 to 2024-12-31 00:00:00\n",
      "Actual range: 2019-06-12 00:00:00 to 2024-12-31 00:00:00\n",
      "Error\n",
      "Expected range: 2015-01-02 00:00:00 to 2024-12-31 00:00:00\n",
      "Actual range: 2019-05-24 00:00:00 to 2024-12-31 00:00:00\n",
      "Error\n",
      "Expected range: 2015-01-02 00:00:00 to 2024-12-31 00:00:00\n",
      "Actual range: 2020-12-09 00:00:00 to 2024-12-31 00:00:00\n",
      "Error\n",
      "Expected range: 2015-01-02 00:00:00 to 2024-12-31 00:00:00\n",
      "Actual range: 2018-04-26 00:00:00 to 2024-12-31 00:00:00\n",
      "Error\n",
      "Expected range: 2015-01-02 00:00:00 to 2024-12-31 00:00:00\n",
      "Actual range: 2019-09-19 00:00:00 to 2024-12-31 00:00:00\n",
      "Error\n",
      "Expected range: 2015-01-02 00:00:00 to 2024-12-31 00:00:00\n",
      "Actual range: 2016-08-17 00:00:00 to 2024-12-31 00:00:00\n",
      "Error\n",
      "Expected range: 2015-01-02 00:00:00 to 2024-12-31 00:00:00\n",
      "Actual range: 2019-03-20 00:00:00 to 2024-12-31 00:00:00\n",
      "Error\n",
      "Expected range: 2015-01-02 00:00:00 to 2024-12-31 00:00:00\n",
      "Actual range: 2021-02-10 00:00:00 to 2024-12-31 00:00:00\n",
      "Error\n",
      "Expected range: 2015-01-02 00:00:00 to 2024-12-31 00:00:00\n",
      "Actual range: 2019-03-13 00:00:00 to 2024-12-31 00:00:00\n",
      "Error\n",
      "Expected range: 2015-01-02 00:00:00 to 2024-12-31 00:00:00\n",
      "Actual range: 2019-03-12 00:00:00 to 2024-12-31 00:00:00\n",
      "Error\n",
      "Expected range: 2015-01-02 00:00:00 to 2024-12-31 00:00:00\n",
      "Actual range: 2016-07-05 00:00:00 to 2024-12-31 00:00:00\n",
      "Error\n",
      "Expected range: 2015-01-02 00:00:00 to 2024-12-31 00:00:00\n",
      "Actual range: 2015-03-31 00:00:00 to 2024-12-31 00:00:00\n",
      "Error\n",
      "Expected range: 2015-01-02 00:00:00 to 2024-12-31 00:00:00\n",
      "Actual range: 2022-12-15 00:00:00 to 2024-12-31 00:00:00\n",
      "Error\n",
      "Expected range: 2015-01-02 00:00:00 to 2024-12-31 00:00:00\n",
      "Actual range: 2024-03-27 00:00:00 to 2024-12-31 00:00:00\n",
      "Error\n",
      "Expected range: 2015-01-02 00:00:00 to 2024-12-31 00:00:00\n",
      "Actual range: 2015-10-19 00:00:00 to 2024-12-31 00:00:00\n",
      "Error\n",
      "Expected range: 2015-01-02 00:00:00 to 2024-12-31 00:00:00\n",
      "Actual range: 2016-11-01 00:00:00 to 2024-12-31 00:00:00\n",
      "Error\n",
      "Expected range: 2015-01-02 00:00:00 to 2024-12-31 00:00:00\n",
      "Actual range: 2017-02-01 00:00:00 to 2024-12-31 00:00:00\n",
      "Error\n",
      "Expected range: 2015-01-02 00:00:00 to 2024-12-31 00:00:00\n",
      "Actual range: 2017-05-12 00:00:00 to 2024-12-31 00:00:00\n",
      "Error\n",
      "Expected range: 2015-01-02 00:00:00 to 2024-12-31 00:00:00\n",
      "Actual range: 2015-07-06 00:00:00 to 2024-12-31 00:00:00\n",
      "Error\n",
      "Expected range: 2015-01-02 00:00:00 to 2024-12-31 00:00:00\n",
      "Actual range: 2023-05-04 00:00:00 to 2024-12-31 00:00:00\n",
      "Error\n",
      "Expected range: 2015-01-02 00:00:00 to 2024-12-31 00:00:00\n",
      "Actual range: 2016-11-10 00:00:00 to 2024-12-31 00:00:00\n",
      "Error\n",
      "Expected range: 2015-01-02 00:00:00 to 2024-12-31 00:00:00\n",
      "Actual range: 2018-12-07 00:00:00 to 2024-12-31 00:00:00\n",
      "Error\n",
      "Expected range: 2015-01-02 00:00:00 to 2024-12-31 00:00:00\n",
      "Actual range: 2020-03-19 00:00:00 to 2024-12-31 00:00:00\n",
      "Error\n",
      "Expected range: 2015-01-02 00:00:00 to 2024-12-31 00:00:00\n",
      "Actual range: 2020-09-30 00:00:00 to 2024-12-31 00:00:00\n",
      "Error\n",
      "Expected range: 2015-01-02 00:00:00 to 2024-12-31 00:00:00\n",
      "Actual range: 2015-07-06 00:00:00 to 2024-12-31 00:00:00\n",
      "Error\n",
      "Expected range: 2015-01-02 00:00:00 to 2024-12-31 00:00:00\n",
      "Actual range: 2024-03-26 00:00:00 to 2024-12-31 00:00:00\n",
      "Error\n",
      "Expected range: 2015-01-02 00:00:00 to 2024-12-31 00:00:00\n",
      "Actual range: 2016-09-21 00:00:00 to 2024-12-31 00:00:00\n",
      "Error\n",
      "Expected range: 2015-01-02 00:00:00 to 2024-12-31 00:00:00\n",
      "Actual range: 2019-05-10 00:00:00 to 2024-12-31 00:00:00\n",
      "Error\n",
      "Expected range: 2015-01-02 00:00:00 to 2024-12-31 00:00:00\n",
      "Actual range: 2018-01-02 00:00:00 to 2024-12-31 00:00:00\n",
      "Error\n",
      "Expected range: 2015-01-02 00:00:00 to 2024-12-31 00:00:00\n",
      "Actual range: 2023-10-04 00:00:00 to 2024-12-31 00:00:00\n",
      "Error\n",
      "Expected range: 2015-01-02 00:00:00 to 2024-12-31 00:00:00\n",
      "Actual range: 2016-10-05 00:00:00 to 2024-12-31 00:00:00\n",
      "Error\n",
      "Expected range: 2015-01-02 00:00:00 to 2024-12-31 00:00:00\n",
      "Actual range: 2015-11-19 00:00:00 to 2024-12-31 00:00:00\n"
     ]
    }
   ],
   "source": [
    "for ticker, data in all_data.items():\n",
    "    try:\n",
    "        verify_data(data)\n",
    "    except Exception as e:\n",
    "        print(f\"Error verifying data for {ticker}: {e}\")"
   ]
  }
 ],
 "metadata": {
  "kernelspec": {
   "display_name": "Python 3",
   "language": "python",
   "name": "python3"
  },
  "language_info": {
   "codemirror_mode": {
    "name": "ipython",
    "version": 3
   },
   "file_extension": ".py",
   "mimetype": "text/x-python",
   "name": "python",
   "nbconvert_exporter": "python",
   "pygments_lexer": "ipython3",
   "version": "3.10.0"
  }
 },
 "nbformat": 4,
 "nbformat_minor": 5
}
