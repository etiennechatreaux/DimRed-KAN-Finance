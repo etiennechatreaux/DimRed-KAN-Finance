{
 "cells": [
  {
   "cell_type": "markdown",
   "metadata": {},
   "source": [
    "# Thesis :"
   ]
  },
  {
   "cell_type": "code",
   "execution_count": 1,
   "metadata": {},
   "outputs": [],
   "source": [
    "import pandas as pd"
   ]
  },
  {
   "cell_type": "code",
   "execution_count": 4,
   "metadata": {},
   "outputs": [
    {
     "name": "stdout",
     "output_type": "stream",
     "text": [
      "Best bid: ['105566.24000000', '4.23506000'] Best ask: ['105566.25000000', '4.08238000']\n",
      "Best bid: ['105566.24000000', '4.23506000'] Best ask: ['105566.25000000', '4.08238000']\n",
      "Best bid: ['105566.24000000', '4.23498000'] Best ask: ['105566.25000000', '4.08238000']\n",
      "Best bid: ['105566.24000000', '4.23498000'] Best ask: ['105566.25000000', '4.08230000']\n",
      "Best bid: ['105566.24000000', '4.23498000'] Best ask: ['105566.25000000', '4.08230000']\n",
      "Best bid: ['105566.24000000', '3.67759000'] Best ask: ['105566.25000000', '3.49730000']\n",
      "Best bid: ['105566.24000000', '3.67772000'] Best ask: ['105566.25000000', '2.76064000']\n",
      "Best bid: ['105566.24000000', '3.67765000'] Best ask: ['105566.25000000', '2.38180000']\n",
      "Best bid: ['105566.24000000', '3.67760000'] Best ask: ['105566.25000000', '2.38180000']\n",
      "Best bid: ['105566.24000000', '3.85821000'] Best ask: ['105566.25000000', '0.12401000']\n",
      "Best bid: ['105566.24000000', '3.94881000'] Best ask: ['105566.25000000', '0.09210000']\n",
      "Best bid: ['105566.24000000', '3.94881000'] Best ask: ['105566.25000000', '0.09164000']\n",
      "Best bid: ['105566.24000000', '3.92684000'] Best ask: ['105566.25000000', '0.14410000']\n",
      "Best bid: ['105566.24000000', '3.92559000'] Best ask: ['105566.25000000', '0.14522000']\n",
      "Best bid: ['105566.24000000', '3.92545000'] Best ask: ['105566.25000000', '0.14534000']\n",
      "Best bid: ['105566.24000000', '3.92545000'] Best ask: ['105566.25000000', '0.15263000']\n",
      "Best bid: ['105566.24000000', '3.92545000'] Best ask: ['105566.25000000', '0.15270000']\n",
      "Best bid: ['105566.24000000', '4.06033000'] Best ask: ['105566.25000000', '1.68824000']\n",
      "Best bid: ['105566.24000000', '4.15021000'] Best ask: ['105566.25000000', '3.28187000']\n",
      "Best bid: ['105566.24000000', '4.15032000'] Best ask: ['105566.25000000', '3.28199000']\n",
      "Best bid: ['105566.24000000', '4.15032000'] Best ask: ['105566.25000000', '3.28199000']\n",
      "Best bid: ['105566.24000000', '4.15032000'] Best ask: ['105566.25000000', '3.28199000']\n",
      "Best bid: ['105566.24000000', '4.14981000'] Best ask: ['105566.25000000', '3.28187000']\n",
      "Best bid: ['105566.24000000', '4.14981000'] Best ask: ['105566.25000000', '3.28187000']\n",
      "Best bid: ['105566.24000000', '4.14981000'] Best ask: ['105566.25000000', '3.28187000']\n",
      "Best bid: ['105566.24000000', '4.14981000'] Best ask: ['105566.25000000', '3.28210000']\n",
      "Best bid: ['105566.24000000', '4.14981000'] Best ask: ['105566.25000000', '3.28210000']\n",
      "Best bid: ['105566.24000000', '4.14915000'] Best ask: ['105566.25000000', '3.28164000']\n",
      "Best bid: ['105566.24000000', '4.14915000'] Best ask: ['105566.25000000', '3.28164000']\n",
      "Best bid: ['105566.24000000', '4.14915000'] Best ask: ['105566.25000000', '2.69656000']\n",
      "Best bid: ['105566.24000000', '4.14915000'] Best ask: ['105566.25000000', '2.69677000']\n",
      "Best bid: ['105566.24000000', '4.14915000'] Best ask: ['105566.25000000', '2.69677000']\n",
      "Best bid: ['105566.24000000', '4.14915000'] Best ask: ['105566.25000000', '2.54466000']\n"
     ]
    },
    {
     "data": {
      "text/plain": [
       "True"
      ]
     },
     "execution_count": 4,
     "metadata": {},
     "output_type": "execute_result"
    }
   ],
   "source": [
    "import websocket\n",
    "import json\n",
    "import pandas as pd\n",
    "\n",
    "def on_message(ws, message):\n",
    "    data = json.loads(message)\n",
    "    bids = data['bids']\n",
    "    asks = data['asks']\n",
    "    print(\"Best bid:\", bids[0], \"Best ask:\", asks[0])\n",
    "\n",
    "def on_open(ws):\n",
    "    payload = {\n",
    "        \"method\": \"SUBSCRIBE\",\n",
    "        \"params\": [\"btcusdt@depth5@100ms\"],\n",
    "        \"id\": 1\n",
    "    }\n",
    "    ws.send(json.dumps(payload))\n",
    "\n",
    "url = \"wss://stream.binance.com:9443/ws/btcusdt@depth5@100ms\"\n",
    "ws = websocket.WebSocketApp(url, on_message=on_message, on_open=on_open)\n",
    "ws.run_forever()\n"
   ]
  },
  {
   "cell_type": "code",
   "execution_count": null,
   "metadata": {},
   "outputs": [],
   "source": []
  }
 ],
 "metadata": {
  "kernelspec": {
   "display_name": "Python 3",
   "language": "python",
   "name": "python3"
  },
  "language_info": {
   "codemirror_mode": {
    "name": "ipython",
    "version": 3
   },
   "file_extension": ".py",
   "mimetype": "text/x-python",
   "name": "python",
   "nbconvert_exporter": "python",
   "pygments_lexer": "ipython3",
   "version": "3.10.0"
  }
 },
 "nbformat": 4,
 "nbformat_minor": 2
}
